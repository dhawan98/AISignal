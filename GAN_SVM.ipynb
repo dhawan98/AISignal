{
  "nbformat": 4,
  "nbformat_minor": 0,
  "metadata": {
    "colab": {
      "provenance": [],
      "gpuType": "T4",
      "toc_visible": true
    },
    "kernelspec": {
      "name": "python3",
      "display_name": "Python 3"
    },
    "language_info": {
      "name": "python"
    },
    "accelerator": "GPU"
  },
  "cells": [
    {
      "cell_type": "markdown",
      "source": [
        "# 1. GAN"
      ],
      "metadata": {
        "id": "w_0nr0t4MytZ"
      }
    },
    {
      "cell_type": "markdown",
      "source": [
        "## 1. 1 Import Libraries"
      ],
      "metadata": {
        "id": "CPdzDqh4VcgB"
      }
    },
    {
      "cell_type": "code",
      "source": [
        "import torch\n",
        "import torch.nn as nn\n",
        "import torch.optim as optim\n",
        "from torch.utils.data import DataLoader, TensorDataset\n",
        "import torch.optim.lr_scheduler as lr_scheduler\n",
        "import pandas as pd\n",
        "from sklearn.model_selection import train_test_split\n",
        "from sklearn.preprocessing import StandardScaler\n",
        "import matplotlib.pyplot as plt\n",
        "import os\n",
        "\n",
        "# For GAN Evaluation\n",
        "# https://datascience.stackexchange.com/questions/47875/why-is-my-generator-loss-function-increasing-with-iterations\n",
        "# Device configuration\n",
        "\n",
        "\n",
        "device = torch.device(\"cuda\" if torch.cuda.is_available() else \"cpu\")\n",
        "print(torch.cuda.is_available())\n"
      ],
      "metadata": {
        "id": "ghuUywacVxHZ",
        "colab": {
          "base_uri": "https://localhost:8080/"
        },
        "outputId": "5e7c4b60-0128-40cd-97df-8594116dda79"
      },
      "execution_count": 1,
      "outputs": [
        {
          "output_type": "stream",
          "name": "stdout",
          "text": [
            "True\n"
          ]
        }
      ]
    },
    {
      "cell_type": "code",
      "source": [
        "from google.colab import drive\n",
        "drive.mount('/content/drive')"
      ],
      "metadata": {
        "colab": {
          "base_uri": "https://localhost:8080/"
        },
        "id": "M5bn4E27wNd_",
        "outputId": "aa5ef5e1-0628-4bef-fc7a-170d898eeb60"
      },
      "execution_count": 2,
      "outputs": [
        {
          "output_type": "stream",
          "name": "stdout",
          "text": [
            "Drive already mounted at /content/drive; to attempt to forcibly remount, call drive.mount(\"/content/drive\", force_remount=True).\n"
          ]
        }
      ]
    },
    {
      "cell_type": "markdown",
      "source": [
        "##1.2 Data Handling"
      ],
      "metadata": {
        "id": "lQTzJHJGW3f_"
      }
    },
    {
      "cell_type": "code",
      "source": [
        "file_path = '/content/drive/MyDrive/ProjectGAN/train_data.csv'\n",
        "data = pd.read_csv(file_path)\n",
        "\n",
        "data = data.fillna(0)\n",
        "scaler = StandardScaler()\n",
        "data.iloc[:, :-1] = scaler.fit_transform(data.iloc[:, :-1])\n",
        "\n",
        "tensor_data = torch.tensor(data.values, dtype=torch.float32)\n",
        "labels = tensor_data[:, -1].unsqueeze(1)\n",
        "features = tensor_data[:, :-1]\n",
        "\n",
        "train_dataset = TensorDataset(features, labels)\n",
        "train_dataloader = DataLoader(train_dataset, batch_size=128, shuffle=True)\n"
      ],
      "metadata": {
        "id": "G_OjIYH9XDjP"
      },
      "execution_count": 3,
      "outputs": []
    },
    {
      "cell_type": "markdown",
      "source": [
        "## 1.3 Generator Model"
      ],
      "metadata": {
        "id": "VRXE8OsuVgoy"
      }
    },
    {
      "cell_type": "code",
      "source": [
        "class Generator(nn.Module):\n",
        "    def __init__(self, latent_dim, output_dim, class_dim):\n",
        "        super(Generator, self).__init__()\n",
        "        self.label_emb = nn.Embedding(class_dim, class_dim)\n",
        "        self.model = nn.Sequential(\n",
        "            nn.Linear(latent_dim + class_dim, 128),\n",
        "            nn.LeakyReLU(0.2, inplace=True),\n",
        "            nn.BatchNorm1d(128),\n",
        "            nn.Dropout(0.3),\n",
        "            nn.Linear(128, 256),\n",
        "            nn.LeakyReLU(0.2, inplace=True),\n",
        "            nn.BatchNorm1d(256),\n",
        "            nn.Dropout(0.3),\n",
        "            nn.Linear(256, 512),\n",
        "            nn.LeakyReLU(0.2, inplace=True),\n",
        "            nn.BatchNorm1d(512),\n",
        "            nn.Linear(512, output_dim),\n",
        "            nn.Tanh(),\n",
        "        )\n",
        "\n",
        "    def forward(self, z, labels):\n",
        "        c = self.label_emb(labels)\n",
        "        c = c.view(-1, class_dim)\n",
        "        x = torch.cat([z, c], dim=1)\n",
        "        return self.model(x)\n",
        "\n",
        ""
      ],
      "metadata": {
        "id": "gMEadGMRV2Ui"
      },
      "execution_count": 4,
      "outputs": []
    },
    {
      "cell_type": "markdown",
      "source": [
        "## 1.4 Discriminator Model"
      ],
      "metadata": {
        "id": "CYWhYvDRV9sP"
      }
    },
    {
      "cell_type": "code",
      "source": [
        "class Discriminator(nn.Module):\n",
        "    def __init__(self, input_dim, class_dim):\n",
        "        super(Discriminator, self).__init__()\n",
        "        self.label_emb = nn.Embedding(class_dim, class_dim)\n",
        "        self.model = nn.Sequential(\n",
        "            nn.utils.spectral_norm(nn.Linear(input_dim + class_dim, 512)),\n",
        "            nn.LeakyReLU(0.2, inplace=True),\n",
        "            nn.utils.spectral_norm(nn.Linear(512, 256)),\n",
        "            nn.LeakyReLU(0.2, inplace=True),\n",
        "            nn.Linear(256, 1),\n",
        "            nn.Sigmoid(),\n",
        "        )\n",
        "\n",
        "    def forward(self, x, labels):\n",
        "        c = self.label_emb(labels)\n",
        "        c = c.view(-1, class_dim)\n",
        "        x = torch.cat([x, c], dim=1)\n",
        "        return self.model(x)"
      ],
      "metadata": {
        "id": "7UFQc54DV5GO"
      },
      "execution_count": 5,
      "outputs": []
    },
    {
      "cell_type": "markdown",
      "source": [
        "## 1.5 Initialize the Generator and Discriminator"
      ],
      "metadata": {
        "id": "y6pNeOpEXYI9"
      }
    },
    {
      "cell_type": "code",
      "source": [
        "latent_dim = 100\n",
        "output_dim = features.shape[1]\n",
        "# output_dim = 100\n",
        "class_dim = 2  # for binary classification\n",
        "generator = Generator(latent_dim, output_dim, class_dim=class_dim).to(device)\n",
        "discriminator = Discriminator(output_dim, class_dim=class_dim).to(device)\n",
        "\n",
        "\n",
        "# print(generator)"
      ],
      "metadata": {
        "id": "LiKq14DyXX3A"
      },
      "execution_count": 6,
      "outputs": []
    },
    {
      "cell_type": "markdown",
      "source": [
        "## 1.6 Training Loop for GAN"
      ],
      "metadata": {
        "id": "8bLAg27FWAhP"
      }
    },
    {
      "cell_type": "code",
      "source": [
        "import torch\n",
        "from torch import nn, optim\n",
        "from torch.autograd import grad\n",
        "from torch.utils.data import DataLoader\n",
        "import os\n",
        "import matplotlib.pyplot as plt\n",
        "\n",
        "def compute_gradient_penalty(D, real_samples, fake_samples, labels, device):\n",
        "    alpha = torch.rand(real_samples.size(0), 1, device=device)\n",
        "    alpha = alpha.expand(real_samples.size())\n",
        "    interpolates = (alpha * real_samples + ((1 - alpha) * fake_samples)).requires_grad_(True)\n",
        "    d_interpolates = D(interpolates, labels)\n",
        "    fake = torch.ones(real_samples.shape[0], 1, device=device, requires_grad=False)\n",
        "    gradients = grad(outputs=d_interpolates, inputs=interpolates,\n",
        "                     grad_outputs=fake,\n",
        "                     create_graph=True, retain_graph=True, only_inputs=True)[0]\n",
        "    gradients = gradients.view(gradients.size(0), -1)\n",
        "    gradient_penalty = ((gradients.norm(2, dim=1) - 1) ** 2).mean()\n",
        "    return gradient_penalty\n",
        "\n",
        "\n",
        "def train_conditional_gan(generator, discriminator, dataloader, class_dim, device, latent_dim=100, num_epochs=15, model_path='gan_models'):\n",
        "    lambda_gp = 10  # gsradient penalty coefficient\n",
        "    optimizer_g = optim.Adam(generator.parameters(), lr=0.0001, betas=(0.5, 0.999))\n",
        "    optimizer_d = optim.Adam(discriminator.parameters(), lr=0.0004, betas=(0.5, 0.999))\n",
        "\n",
        "    if not os.path.exists(model_path):\n",
        "        os.makedirs(model_path)\n",
        "\n",
        "    G_losses = []\n",
        "    D_losses = []\n",
        "    epoch_G_losses = []\n",
        "    epoch_D_losses = []\n",
        "    n_critic = 5  # The number of discriminator updates per generator update\n",
        "\n",
        "    for epoch in range(num_epochs):\n",
        "        G_loss_accum = 0.0\n",
        "        D_loss_accum = 0.0\n",
        "        num_batches = 0\n",
        "        for i, (real_samples, labels) in enumerate(dataloader):\n",
        "            batch_size = real_samples.size(0)\n",
        "            real_samples = real_samples.to(device)\n",
        "            labels = labels.long().to(device)\n",
        "            labels = labels.clamp(0, class_dim - 1)\n",
        "\n",
        "            # Train Discriminator\n",
        "            optimizer_d.zero_grad()\n",
        "            z = torch.randn(batch_size, latent_dim, device=device)\n",
        "            fake_samples = generator(z, labels).detach()\n",
        "            real_validity = discriminator(real_samples, labels)\n",
        "            fake_validity = discriminator(fake_samples, labels)\n",
        "            d_loss_real = -torch.mean(real_validity)\n",
        "            d_loss_fake = torch.mean(fake_validity)\n",
        "            gradient_penalty = compute_gradient_penalty(discriminator, real_samples, fake_samples, labels, device)\n",
        "            d_loss = d_loss_real + d_loss_fake + lambda_gp * gradient_penalty\n",
        "            d_loss.backward()\n",
        "            optimizer_d.step()\n",
        "\n",
        "            # train the generator every n_critic steps\n",
        "            if i % n_critic == 0:\n",
        "                optimizer_g.zero_grad()\n",
        "                fake_samples = generator(z, labels)\n",
        "                validity = discriminator(fake_samples, labels)\n",
        "                g_loss = -torch.mean(validity)\n",
        "                g_loss.backward()\n",
        "                optimizer_g.step()\n",
        "\n",
        "            # accumulate the losses from each batch\n",
        "            G_loss_accum += g_loss.item()\n",
        "            D_loss_accum += d_loss.item()\n",
        "            num_batches += 1\n",
        "\n",
        "            G_losses.append(g_loss.item())\n",
        "            D_losses.append(d_loss.item())\n",
        "\n",
        "            if i % 500 == 0:\n",
        "                print(f\"[Epoch {epoch+1}/{num_epochs}] [Batch {i}/{len(dataloader)}] [D loss: {d_loss.item()}] [G loss: {g_loss.item()}]\")\n",
        "\n",
        "        epoch_G_losses.append(G_loss_accum / num_batches)\n",
        "        epoch_D_losses.append(D_loss_accum / num_batches)\n",
        "\n",
        "    torch.save(generator.state_dict(), os.path.join(model_path, 'generator.pth'))\n",
        "    torch.save(discriminator.state_dict(), os.path.join(model_path, 'discriminator.pth'))\n",
        "\n",
        "    plt.figure(figsize=(10,5))\n",
        "    plt.title(\"Generator and Discriminator Loss During Training\")\n",
        "    plt.plot(range(1, num_epochs + 1), epoch_G_losses, label=\"G\")\n",
        "    plt.plot(range(1, num_epochs + 1), epoch_D_losses, label=\"D\")\n",
        "    plt.xlabel(\"Epoch\")\n",
        "    plt.ylabel(\"Loss\")\n",
        "    plt.legend()\n",
        "    plt.show()\n",
        "\n",
        "    return generator, discriminator\n",
        "\n",
        "\n",
        "#  the training process\n",
        "trained_generator, trained_discriminator = train_conditional_gan(\n",
        "    generator=generator,\n",
        "    discriminator=discriminator,\n",
        "    dataloader=train_dataloader,\n",
        "    class_dim=class_dim,\n",
        "    device=device,\n",
        "    latent_dim=latent_dim,\n",
        "    num_epochs=15,\n",
        ")\n",
        "\n"
      ],
      "metadata": {
        "id": "LUKoS7d-WQxO",
        "colab": {
          "base_uri": "https://localhost:8080/",
          "height": 1000
        },
        "outputId": "5e63c17f-5698-4e05-dea2-cf8e8103f78c"
      },
      "execution_count": 15,
      "outputs": [
        {
          "output_type": "stream",
          "name": "stdout",
          "text": [
            "[Epoch 1/15] [Batch 0/3110] [D loss: 2.541205406188965] [G loss: -0.4205591678619385]\n",
            "[Epoch 1/15] [Batch 500/3110] [D loss: 1.016829252243042] [G loss: -0.36990296840667725]\n",
            "[Epoch 1/15] [Batch 1000/3110] [D loss: 0.6264519691467285] [G loss: -0.380127876996994]\n",
            "[Epoch 1/15] [Batch 1500/3110] [D loss: 0.9158082008361816] [G loss: -0.4550723433494568]\n",
            "[Epoch 1/15] [Batch 2000/3110] [D loss: 0.8686596751213074] [G loss: -0.43178272247314453]\n",
            "[Epoch 1/15] [Batch 2500/3110] [D loss: 0.5788942575454712] [G loss: -0.45345622301101685]\n",
            "[Epoch 1/15] [Batch 3000/3110] [D loss: 0.7640206813812256] [G loss: -0.5313583612442017]\n",
            "[Epoch 2/15] [Batch 0/3110] [D loss: 0.7361470460891724] [G loss: -0.46819132566452026]\n",
            "[Epoch 2/15] [Batch 500/3110] [D loss: 0.9165812730789185] [G loss: -0.46604979038238525]\n",
            "[Epoch 2/15] [Batch 1000/3110] [D loss: 1.0038580894470215] [G loss: -0.5031269788742065]\n",
            "[Epoch 2/15] [Batch 1500/3110] [D loss: 0.624314546585083] [G loss: -0.5237486362457275]\n",
            "[Epoch 2/15] [Batch 2000/3110] [D loss: 0.63832026720047] [G loss: -0.4710131287574768]\n",
            "[Epoch 2/15] [Batch 2500/3110] [D loss: 0.9747499823570251] [G loss: -0.472703754901886]\n",
            "[Epoch 2/15] [Batch 3000/3110] [D loss: 0.6844860911369324] [G loss: -0.515535295009613]\n",
            "[Epoch 3/15] [Batch 0/3110] [D loss: 0.6123872399330139] [G loss: -0.42408978939056396]\n",
            "[Epoch 3/15] [Batch 500/3110] [D loss: 0.6478276252746582] [G loss: -0.5032254457473755]\n",
            "[Epoch 3/15] [Batch 1000/3110] [D loss: 0.6189560294151306] [G loss: -0.4528062343597412]\n",
            "[Epoch 3/15] [Batch 1500/3110] [D loss: 0.6588364839553833] [G loss: -0.4450211822986603]\n",
            "[Epoch 3/15] [Batch 2000/3110] [D loss: 0.5135761499404907] [G loss: -0.46233493089675903]\n",
            "[Epoch 3/15] [Batch 2500/3110] [D loss: 0.6085720658302307] [G loss: -0.4650976061820984]\n",
            "[Epoch 3/15] [Batch 3000/3110] [D loss: 0.8477034568786621] [G loss: -0.4623063802719116]\n",
            "[Epoch 4/15] [Batch 0/3110] [D loss: 0.6150131225585938] [G loss: -0.45753681659698486]\n",
            "[Epoch 4/15] [Batch 500/3110] [D loss: 0.803927481174469] [G loss: -0.44990941882133484]\n",
            "[Epoch 4/15] [Batch 1000/3110] [D loss: 0.6171867847442627] [G loss: -0.5221225619316101]\n",
            "[Epoch 4/15] [Batch 1500/3110] [D loss: 0.7349717020988464] [G loss: -0.5023077726364136]\n",
            "[Epoch 4/15] [Batch 2000/3110] [D loss: 0.590121865272522] [G loss: -0.4517190456390381]\n",
            "[Epoch 4/15] [Batch 2500/3110] [D loss: 0.5372276306152344] [G loss: -0.4501760005950928]\n",
            "[Epoch 4/15] [Batch 3000/3110] [D loss: 0.6512060165405273] [G loss: -0.4609246850013733]\n",
            "[Epoch 5/15] [Batch 0/3110] [D loss: 0.5070860385894775] [G loss: -0.4788084030151367]\n",
            "[Epoch 5/15] [Batch 500/3110] [D loss: 0.3230012059211731] [G loss: -0.38044634461402893]\n",
            "[Epoch 5/15] [Batch 1000/3110] [D loss: 0.4004162549972534] [G loss: -0.4717903137207031]\n",
            "[Epoch 5/15] [Batch 1500/3110] [D loss: 0.5395076274871826] [G loss: -0.49018606543540955]\n",
            "[Epoch 5/15] [Batch 2000/3110] [D loss: 0.4129983186721802] [G loss: -0.49320656061172485]\n",
            "[Epoch 5/15] [Batch 2500/3110] [D loss: 0.7837581634521484] [G loss: -0.4425452649593353]\n",
            "[Epoch 5/15] [Batch 3000/3110] [D loss: 0.3044304847717285] [G loss: -0.45034241676330566]\n",
            "[Epoch 6/15] [Batch 0/3110] [D loss: 0.5376396179199219] [G loss: -0.38793671131134033]\n",
            "[Epoch 6/15] [Batch 500/3110] [D loss: 0.42496681213378906] [G loss: -0.46135538816452026]\n",
            "[Epoch 6/15] [Batch 1000/3110] [D loss: 0.44836515188217163] [G loss: -0.5071272850036621]\n",
            "[Epoch 6/15] [Batch 1500/3110] [D loss: 0.6326541900634766] [G loss: -0.44019949436187744]\n",
            "[Epoch 6/15] [Batch 2000/3110] [D loss: 0.3172524869441986] [G loss: -0.49627673625946045]\n",
            "[Epoch 6/15] [Batch 2500/3110] [D loss: 0.4690438508987427] [G loss: -0.4270346760749817]\n",
            "[Epoch 6/15] [Batch 3000/3110] [D loss: 0.390889048576355] [G loss: -0.47428417205810547]\n",
            "[Epoch 7/15] [Batch 0/3110] [D loss: 0.3732469081878662] [G loss: -0.4711971879005432]\n",
            "[Epoch 7/15] [Batch 500/3110] [D loss: 0.25473007559776306] [G loss: -0.49934130907058716]\n",
            "[Epoch 7/15] [Batch 1000/3110] [D loss: 0.3306278884410858] [G loss: -0.4067869782447815]\n",
            "[Epoch 7/15] [Batch 1500/3110] [D loss: 0.32990118861198425] [G loss: -0.43180516362190247]\n",
            "[Epoch 7/15] [Batch 2000/3110] [D loss: 0.4712151885032654] [G loss: -0.4957394599914551]\n",
            "[Epoch 7/15] [Batch 2500/3110] [D loss: 0.4925000071525574] [G loss: -0.5089108347892761]\n",
            "[Epoch 7/15] [Batch 3000/3110] [D loss: 0.4009400010108948] [G loss: -0.44350987672805786]\n",
            "[Epoch 8/15] [Batch 0/3110] [D loss: 0.299502968788147] [G loss: -0.4824468195438385]\n",
            "[Epoch 8/15] [Batch 500/3110] [D loss: 0.3474826216697693] [G loss: -0.4689818322658539]\n",
            "[Epoch 8/15] [Batch 1000/3110] [D loss: 0.20601889491081238] [G loss: -0.3912670314311981]\n",
            "[Epoch 8/15] [Batch 1500/3110] [D loss: 0.31206783652305603] [G loss: -0.48734530806541443]\n",
            "[Epoch 8/15] [Batch 2000/3110] [D loss: 0.356519877910614] [G loss: -0.5304132103919983]\n",
            "[Epoch 8/15] [Batch 2500/3110] [D loss: 0.4070607125759125] [G loss: -0.3932397961616516]\n",
            "[Epoch 8/15] [Batch 3000/3110] [D loss: 0.2732680141925812] [G loss: -0.48202699422836304]\n",
            "[Epoch 9/15] [Batch 0/3110] [D loss: 0.25617194175720215] [G loss: -0.4335087537765503]\n",
            "[Epoch 9/15] [Batch 500/3110] [D loss: 0.5222587585449219] [G loss: -0.49034249782562256]\n",
            "[Epoch 9/15] [Batch 1000/3110] [D loss: 0.20609304308891296] [G loss: -0.4363285303115845]\n",
            "[Epoch 9/15] [Batch 1500/3110] [D loss: 0.21701398491859436] [G loss: -0.4309685230255127]\n",
            "[Epoch 9/15] [Batch 2000/3110] [D loss: 0.21448689699172974] [G loss: -0.38791465759277344]\n",
            "[Epoch 9/15] [Batch 2500/3110] [D loss: 0.2818196415901184] [G loss: -0.3748624324798584]\n",
            "[Epoch 9/15] [Batch 3000/3110] [D loss: 0.3384188413619995] [G loss: -0.49766093492507935]\n",
            "[Epoch 10/15] [Batch 0/3110] [D loss: 0.4248529374599457] [G loss: -0.5036956071853638]\n",
            "[Epoch 10/15] [Batch 500/3110] [D loss: 0.3540383577346802] [G loss: -0.4992324113845825]\n",
            "[Epoch 10/15] [Batch 1000/3110] [D loss: 0.09681516885757446] [G loss: -0.45727112889289856]\n",
            "[Epoch 10/15] [Batch 1500/3110] [D loss: 0.36543750762939453] [G loss: -0.520219087600708]\n",
            "[Epoch 10/15] [Batch 2000/3110] [D loss: 0.08135750889778137] [G loss: -0.4874360263347626]\n",
            "[Epoch 10/15] [Batch 2500/3110] [D loss: 0.4474111497402191] [G loss: -0.534644603729248]\n",
            "[Epoch 10/15] [Batch 3000/3110] [D loss: 0.2798050343990326] [G loss: -0.4063259959220886]\n",
            "[Epoch 11/15] [Batch 0/3110] [D loss: 0.24482986330986023] [G loss: -0.4439806044101715]\n",
            "[Epoch 11/15] [Batch 500/3110] [D loss: 0.4193441867828369] [G loss: -0.5011628866195679]\n",
            "[Epoch 11/15] [Batch 1000/3110] [D loss: 0.20851337909698486] [G loss: -0.457370400428772]\n",
            "[Epoch 11/15] [Batch 1500/3110] [D loss: 0.24242442846298218] [G loss: -0.46227943897247314]\n",
            "[Epoch 11/15] [Batch 2000/3110] [D loss: 0.10318052768707275] [G loss: -0.4950549900531769]\n",
            "[Epoch 11/15] [Batch 2500/3110] [D loss: 0.037751972675323486] [G loss: -0.46692657470703125]\n",
            "[Epoch 11/15] [Batch 3000/3110] [D loss: 0.1354835033416748] [G loss: -0.42914915084838867]\n",
            "[Epoch 12/15] [Batch 0/3110] [D loss: 0.25075897574424744] [G loss: -0.49146974086761475]\n",
            "[Epoch 12/15] [Batch 500/3110] [D loss: 0.18856608867645264] [G loss: -0.4180440902709961]\n",
            "[Epoch 12/15] [Batch 1000/3110] [D loss: 0.0677097737789154] [G loss: -0.4860948622226715]\n",
            "[Epoch 12/15] [Batch 1500/3110] [D loss: 0.13394516706466675] [G loss: -0.43569284677505493]\n",
            "[Epoch 12/15] [Batch 2000/3110] [D loss: -0.0012680590152740479] [G loss: -0.4501974582672119]\n",
            "[Epoch 12/15] [Batch 2500/3110] [D loss: 0.16039732098579407] [G loss: -0.3907468318939209]\n",
            "[Epoch 12/15] [Batch 3000/3110] [D loss: 0.12375682592391968] [G loss: -0.43056797981262207]\n",
            "[Epoch 13/15] [Batch 0/3110] [D loss: 0.19469282031059265] [G loss: -0.36329352855682373]\n",
            "[Epoch 13/15] [Batch 500/3110] [D loss: 0.03404763340950012] [G loss: -0.4303853511810303]\n",
            "[Epoch 13/15] [Batch 1000/3110] [D loss: 0.002177208662033081] [G loss: -0.449487566947937]\n",
            "[Epoch 13/15] [Batch 1500/3110] [D loss: 0.026381254196166992] [G loss: -0.44018974900245667]\n",
            "[Epoch 13/15] [Batch 2000/3110] [D loss: -0.010946542024612427] [G loss: -0.3970319926738739]\n",
            "[Epoch 13/15] [Batch 2500/3110] [D loss: 0.07838839292526245] [G loss: -0.5080026388168335]\n",
            "[Epoch 13/15] [Batch 3000/3110] [D loss: 0.26700451970100403] [G loss: -0.4243309497833252]\n",
            "[Epoch 14/15] [Batch 0/3110] [D loss: 0.013378053903579712] [G loss: -0.43229061365127563]\n",
            "[Epoch 14/15] [Batch 500/3110] [D loss: -0.016628265380859375] [G loss: -0.380239337682724]\n",
            "[Epoch 14/15] [Batch 1000/3110] [D loss: 0.08713936805725098] [G loss: -0.41162753105163574]\n",
            "[Epoch 14/15] [Batch 1500/3110] [D loss: -0.006108447909355164] [G loss: -0.38928690552711487]\n",
            "[Epoch 14/15] [Batch 2000/3110] [D loss: -0.039402157068252563] [G loss: -0.4876715838909149]\n",
            "[Epoch 14/15] [Batch 2500/3110] [D loss: -0.039298444986343384] [G loss: -0.4433020055294037]\n",
            "[Epoch 14/15] [Batch 3000/3110] [D loss: 0.037469327449798584] [G loss: -0.41098758578300476]\n",
            "[Epoch 15/15] [Batch 0/3110] [D loss: 0.06904855370521545] [G loss: -0.4788628816604614]\n",
            "[Epoch 15/15] [Batch 500/3110] [D loss: -0.09615454077720642] [G loss: -0.43025368452072144]\n",
            "[Epoch 15/15] [Batch 1000/3110] [D loss: 0.05208706855773926] [G loss: -0.48055440187454224]\n",
            "[Epoch 15/15] [Batch 1500/3110] [D loss: -0.04011699557304382] [G loss: -0.3894926905632019]\n",
            "[Epoch 15/15] [Batch 2000/3110] [D loss: 0.0703195333480835] [G loss: -0.35006019473075867]\n",
            "[Epoch 15/15] [Batch 2500/3110] [D loss: 0.060464709997177124] [G loss: -0.3637292683124542]\n",
            "[Epoch 15/15] [Batch 3000/3110] [D loss: 0.11012771725654602] [G loss: -0.45268353819847107]\n"
          ]
        },
        {
          "output_type": "display_data",
          "data": {
            "text/plain": [
              "<Figure size 1000x500 with 1 Axes>"
            ],
            "image/png": "[encoded data removed]"
          },
          "metadata": {}
        }
      ]
    },
    {
      "cell_type": "markdown",
      "source": [
        "##1.7 Evaluation of the Model"
      ],
      "metadata": {
        "id": "Tx1HNspMU6JI"
      }
    },
    {
      "cell_type": "code",
      "source": [
        "generator = Generator(latent_dim, output_dim, class_dim=class_dim)\n",
        "generator.load_state_dict(torch.load('/content/gan_models/generator.pth'))\n",
        "generator.eval()"
      ],
      "metadata": {
        "id": "up9z50E7VCtb",
        "colab": {
          "base_uri": "https://localhost:8080/"
        },
        "outputId": "585bdaa9-d73d-4f1c-9e9a-8a6953dfca6a"
      },
      "execution_count": 18,
      "outputs": [
        {
          "output_type": "execute_result",
          "data": {
            "text/plain": [
              "Generator(\n",
              "  (label_emb): Embedding(2, 2)\n",
              "  (model): Sequential(\n",
              "    (0): Linear(in_features=102, out_features=128, bias=True)\n",
              "    (1): LeakyReLU(negative_slope=0.2, inplace=True)\n",
              "    (2): BatchNorm1d(128, eps=1e-05, momentum=0.1, affine=True, track_running_stats=True)\n",
              "    (3): Dropout(p=0.3, inplace=False)\n",
              "    (4): Linear(in_features=128, out_features=256, bias=True)\n",
              "    (5): LeakyReLU(negative_slope=0.2, inplace=True)\n",
              "    (6): BatchNorm1d(256, eps=1e-05, momentum=0.1, affine=True, track_running_stats=True)\n",
              "    (7): Dropout(p=0.3, inplace=False)\n",
              "    (8): Linear(in_features=256, out_features=512, bias=True)\n",
              "    (9): LeakyReLU(negative_slope=0.2, inplace=True)\n",
              "    (10): BatchNorm1d(512, eps=1e-05, momentum=0.1, affine=True, track_running_stats=True)\n",
              "    (11): Linear(in_features=512, out_features=30, bias=True)\n",
              "    (12): Tanh()\n",
              "  )\n",
              ")"
            ]
          },
          "metadata": {},
          "execution_count": 18
        }
      ]
    },
    {
      "cell_type": "code",
      "source": [
        "import torch\n",
        "import pandas as pd\n",
        "from sklearn.preprocessing import StandardScaler\n",
        "import numpy as np\n",
        "\n",
        "device = torch.device(\"cuda\" if torch.cuda.is_available() else \"cpu\")\n",
        "\n",
        "latent_dim = 100  # or the dimension used during training\n",
        "class_dim = class_dim\n",
        "\n",
        "real_data_df = pd.read_csv('/content/drive/MyDrive/ProjectGAN/train_data.csv')\n",
        "real_features = real_data_df.drop(columns=['Class', 'id'])\n",
        "\n",
        "output_dim = 30  # trained model's output dimension\n",
        "\n",
        "# Load the trained generator model\n",
        "generator = Generator(latent_dim, output_dim, class_dim)\n",
        "generator.load_state_dict(torch.load('/content/gan_models/generator.pth'))\n",
        "generator.eval()\n",
        "generator.to(device)\n",
        "\n",
        "# Generate synthetic data\n",
        "num_samples = min(len(real_features), 150000)\n",
        "synthetic_labels = torch.randint(0, class_dim, (num_samples,), device=device)\n",
        "latent_space_samples = torch.randn(num_samples, latent_dim, device=device)\n",
        "generated_data = generator(latent_space_samples, synthetic_labels).detach().cpu()\n",
        "\n",
        "feature_names = real_features.columns.tolist() + ['AdditionalFeature']\n",
        "\n",
        "generated_data_df = pd.DataFrame(generated_data.numpy(), columns=feature_names)\n",
        "\n",
        "generated_data_df = generated_data_df.drop(columns=['AdditionalFeature'])\n",
        "\n",
        "generated_data_df['Class'] = synthetic_labels.cpu().numpy()\n",
        "\n",
        "scaler = StandardScaler()\n",
        "scaler.fit(real_features)\n",
        "generated_data_scaled = scaler.transform(generated_data_df.drop('Class', axis=1))\n",
        "\n",
        "generated_data_scaled_df = pd.DataFrame(generated_data_scaled, columns=real_features.columns)\n",
        "generated_data_scaled_df['Class'] = generated_data_df['Class']\n",
        "\n",
        "generated_data_scaled_df.replace([np.inf, -np.inf], np.nan, inplace=True)\n",
        "generated_data_scaled_df.fillna(generated_data_scaled_df.mean(), inplace=True)\n",
        "\n",
        "generated_data_scaled_df.to_csv('/content/gan_models/synthetic_data.csv', index=False)\n",
        "\n",
        "data = pd.read_csv('/content/gan_models/synthetic_data.csv')\n",
        "print(data.head())\n"
      ],
      "metadata": {
        "colab": {
          "base_uri": "https://localhost:8080/"
        },
        "id": "1c3kAmgptf0G",
        "outputId": "7720549d-17de-49e8-8aeb-3ce0c21a07c4"
      },
      "execution_count": 19,
      "outputs": [
        {
          "output_type": "stream",
          "name": "stdout",
          "text": [
            "         V1        V2        V3        V4        V5        V6        V7  \\\n",
            "0 -0.999314 -0.165363 -0.540083  0.995457 -0.892058  0.484096  0.887207   \n",
            "1  0.986622 -0.576018  0.362323 -0.889339  0.842539 -0.738234 -0.681878   \n",
            "2 -1.000409 -0.413094 -0.427429  0.977037 -0.385549  0.674538 -0.739095   \n",
            "3  0.874431 -0.213070  0.413169 -0.771826  0.367733 -0.391336 -0.325612   \n",
            "4 -0.992007  0.967937 -0.916125  0.823089 -0.996208  0.066894  0.143396   \n",
            "\n",
            "         V8        V9       V10  ...       V21       V22       V23       V24  \\\n",
            "0  0.803362 -0.241913  0.278012  ... -0.169874 -0.306705 -0.064445  0.030324   \n",
            "1 -0.264914 -0.010920  0.029817  ... -0.242028  0.541768  0.855856 -0.074514   \n",
            "2  0.874763 -0.396735  0.251375  ... -0.286412 -0.217067  0.952817 -0.480762   \n",
            "3 -0.483122  0.140092 -0.531321  ...  0.219633  0.391394  0.031580 -0.187409   \n",
            "4  0.354876 -0.448256  0.185309  ... -0.323759 -0.471002 -0.006224  0.448213   \n",
            "\n",
            "        V25       V26       V27       V28    Amount  Class  \n",
            "0  0.667959  0.740949 -0.991629 -0.384938 -0.027224      0  \n",
            "1  0.152826 -0.962593 -0.704679 -0.872674  0.953833      1  \n",
            "2  0.910535 -0.993515 -0.070671  0.264563  0.289545      0  \n",
            "3 -0.635740  0.117139  0.430508  0.794034  0.607615      1  \n",
            "4  0.136270  0.576903  0.597421 -0.265713 -0.356605      0  \n",
            "\n",
            "[5 rows x 30 columns]\n"
          ]
        }
      ]
    },
    {
      "cell_type": "code",
      "source": [
        "from sklearn.preprocessing import MinMaxScaler\n",
        "import pandas as pd\n",
        "\n",
        "synthetic_data_df = pd.read_csv('/content/gan_models/synthetic_data.csv')\n",
        "\n",
        "\n",
        "real_data_df = pd.read_csv('/content/drive/MyDrive/ProjectGAN/train_data.csv').iloc[:200000]\n",
        "# real_data_df = pd.read_csv('/content/drive/MyDrive/ProjectGAN/train_data.csv')\n",
        "\n",
        "amount_values = real_data_df['Amount'].values.reshape(-1, 1)\n",
        "\n",
        "scaler = MinMaxScaler(feature_range=(-1, 1))\n",
        "\n",
        "scaled_amount = scaler.fit_transform(amount_values)\n",
        "\n",
        "real_data_df['Amount'] = scaled_amount.flatten()\n",
        "\n",
        "\n"
      ],
      "metadata": {
        "id": "zJglUgVjA_Fd"
      },
      "execution_count": 20,
      "outputs": []
    },
    {
      "cell_type": "markdown",
      "source": [
        "## 1.8 Comparison Histogram\n"
      ],
      "metadata": {
        "id": "CdhrMxFZQV1Y"
      }
    },
    {
      "cell_type": "code",
      "source": [
        "import matplotlib.pyplot as plt\n",
        "\n",
        "def plot_comparison(feature):\n",
        "    plt.figure(figsize=(12, 6))\n",
        "    plt.hist(real_data_df[feature], bins=50, alpha=0.5, label='Real')\n",
        "    plt.hist(synthetic_data_df[feature], bins=50, alpha=0.5, label='Synthetic')\n",
        "    plt.xlabel(f'{feature} Value')\n",
        "    plt.ylabel('Frequency')\n",
        "    plt.legend()\n",
        "    plt.title(f'Comparison of Real and Synthetic Data Distributions for {feature}')\n",
        "    plt.show()\n",
        "\n",
        "plot_comparison('Amount')\n"
      ],
      "metadata": {
        "id": "ZW5V5Q9pd_jY",
        "colab": {
          "base_uri": "https://localhost:8080/",
          "height": 564
        },
        "outputId": "a3156527-3353-435c-b396-2db0f8f55ea8"
      },
      "execution_count": 21,
      "outputs": [
        {
          "output_type": "display_data",
          "data": {
            "text/plain": [
              "<Figure size 1200x600 with 1 Axes>"
            ],
            "image/png": "[encoded data removed]"
          },
          "metadata": {}
        }
      ]
    },
    {
      "cell_type": "markdown",
      "source": [
        "##1.9 Comparison Box Plot"
      ],
      "metadata": {
        "id": "O6wYs9PeQbIk"
      }
    },
    {
      "cell_type": "code",
      "source": [
        "import matplotlib.pyplot as plt\n",
        "import pandas as pd\n",
        "\n",
        "plt.figure(figsize=(10, 6))\n",
        "plt.boxplot([real_data_df['Amount'], generated_data_df['Amount']], labels=['Real', 'Synthetic'])\n",
        "plt.title('Box plot of Real and Synthetic Data Distributions for Amount')\n",
        "plt.ylabel('Amount Value')\n",
        "plt.show()\n"
      ],
      "metadata": {
        "id": "8HHTutd-ejUQ",
        "colab": {
          "base_uri": "https://localhost:8080/",
          "height": 545
        },
        "outputId": "fed956ae-1ca9-4c1d-eb2f-ad20e1aac926"
      },
      "execution_count": 22,
      "outputs": [
        {
          "output_type": "display_data",
          "data": {
            "text/plain": [
              "<Figure size 1000x600 with 1 Axes>"
            ],
            "image/png": "[encoded data removed]"
          },
          "metadata": {}
        }
      ]
    },
    {
      "cell_type": "markdown",
      "source": [
        "## 1.10 KS Stat Test\n",
        "### Closer to 0 means similar and closer to 1 means different"
      ],
      "metadata": {
        "id": "BxbECTgDQg8v"
      }
    },
    {
      "cell_type": "code",
      "source": [
        "from scipy import stats\n",
        "import pandas as pd\n",
        "\n",
        "real_data_df = pd.read_csv('/content/drive/MyDrive/ProjectGAN/train_data.csv')\n",
        "synthetic_data_df = pd.read_csv('/content/gan_models/synthetic_data.csv')\n",
        "\n",
        "real_data_column = real_data_df['Amount']\n",
        "synthetic_data_column = synthetic_data_df['Amount']\n",
        "\n",
        "ks_statistic, p_value = stats.ks_2samp(real_data_column, synthetic_data_column)\n",
        "\n",
        "print(f'KS Statistic: {ks_statistic}')\n",
        "print(f'P-value: {p_value}')\n",
        "\n"
      ],
      "metadata": {
        "id": "1d8VPDTLKS8r",
        "colab": {
          "base_uri": "https://localhost:8080/"
        },
        "outputId": "e0ba0fd7-2f71-4221-f857-0edabe2fb24d"
      },
      "execution_count": 23,
      "outputs": [
        {
          "output_type": "stream",
          "name": "stdout",
          "text": [
            "KS Statistic: 0.23527805245703948\n",
            "P-value: 0.0\n"
          ]
        }
      ]
    },
    {
      "cell_type": "markdown",
      "source": [
        "# 2.0 Classifiers"
      ],
      "metadata": {
        "id": "MR5LqBg2Nai0"
      }
    },
    {
      "cell_type": "markdown",
      "source": [
        "## 2.1 Original Data Classifier"
      ],
      "metadata": {
        "id": "wpfxr_JrNdOw"
      }
    },
    {
      "cell_type": "code",
      "source": [
        "import pandas as pd\n",
        "from sklearn.svm import SVC\n",
        "from sklearn.metrics import classification_report, accuracy_score\n",
        "\n",
        "train_file_path = '/content/drive/MyDrive/ProjectGAN/Split_Data/train_data.csv'\n",
        "test_file_path = '/content/drive/MyDrive/ProjectGAN/Split_Data/test_data.csv'\n",
        "val_file_path = '/content/drive/MyDrive/ProjectGAN/Split_Data/val_data.csv'\n",
        "\n",
        "def load_data(file_path):\n",
        "    data = pd.read_csv(file_path)\n",
        "    return data\n",
        "\n",
        "def train_classifier(X_train, y_train):\n",
        "    classifier = SVC()\n",
        "    classifier.fit(X_train, y_train)\n",
        "    return classifier\n",
        "\n",
        "def evaluate_classifier(classifier, X_test, y_test):\n",
        "    predictions = classifier.predict(X_test)\n",
        "    accuracy = accuracy_score(y_test, predictions)\n",
        "    report = classification_report(y_test, predictions, output_dict=True)\n",
        "    metrics = {\n",
        "        'accuracy': accuracy,\n",
        "        'precision': report['weighted avg']['precision'],\n",
        "        'recall': report['weighted avg']['recall'],\n",
        "        'f1_score': report['weighted avg']['f1-score']\n",
        "    }\n",
        "    print(\"Accuracy:\", accuracy_score(y_test, predictions))\n",
        "    print(\"Classification Report:\\n\", classification_report(y_test, predictions))\n",
        "    return metrics\n",
        "\n",
        "def main():\n",
        "    train_data = load_data(train_file_path)\n",
        "    test_data = load_data(test_file_path)\n",
        "\n",
        "    X_train = train_data.drop('Class', axis=1)\n",
        "    y_train = train_data['Class']\n",
        "    X_test = test_data.drop('Class', axis=1)\n",
        "    y_test = test_data['Class']\n",
        "\n",
        "    classifier = train_classifier(X_train, y_train)\n",
        "\n",
        "    original_metrics = evaluate_classifier(classifier, X_test, y_test)\n",
        "    return original_metrics\n",
        "\n",
        "original_metrics = main()\n",
        "\n"
      ],
      "metadata": {
        "id": "HjYdZRvxNjil",
        "colab": {
          "base_uri": "https://localhost:8080/"
        },
        "outputId": "62efe4d0-8f36-488e-e6f5-fe8dae2eae1d"
      },
      "execution_count": 24,
      "outputs": [
        {
          "output_type": "stream",
          "name": "stdout",
          "text": [
            "Accuracy: 0.9995913335923787\n",
            "Classification Report:\n",
            "               precision    recall  f1-score   support\n",
            "\n",
            "        -1.0       1.00      1.00      1.00     74633\n",
            "         1.0       1.00      1.00      1.00     74633\n",
            "\n",
            "    accuracy                           1.00    149266\n",
            "   macro avg       1.00      1.00      1.00    149266\n",
            "weighted avg       1.00      1.00      1.00    149266\n",
            "\n",
            "Accuracy: 0.9995913335923787\n",
            "Classification Report:\n",
            "               precision    recall  f1-score   support\n",
            "\n",
            "        -1.0       1.00      1.00      1.00     74633\n",
            "         1.0       1.00      1.00      1.00     74633\n",
            "\n",
            "    accuracy                           1.00    149266\n",
            "   macro avg       1.00      1.00      1.00    149266\n",
            "weighted avg       1.00      1.00      1.00    149266\n",
            "\n"
          ]
        }
      ]
    },
    {
      "cell_type": "markdown",
      "source": [
        "##2.2 Augmented Data (Original + Synthetic Data) Classifier"
      ],
      "metadata": {
        "id": "ZI5pA_uxNj53"
      }
    },
    {
      "cell_type": "code",
      "source": [
        "import pandas as pd\n",
        "import numpy as np\n",
        "from sklearn.model_selection import train_test_split\n",
        "from sklearn.svm import SVC\n",
        "from sklearn.metrics import classification_report, accuracy_score\n",
        "from sklearn.preprocessing import StandardScaler\n",
        "from sklearn.impute import SimpleImputer\n",
        "from sklearn.utils import shuffle\n",
        "\n",
        "real_data_path = '/content/drive/MyDrive/ProjectGAN/Split_Data/train_data.csv'\n",
        "synthetic_data_path = '/content/gan_models/synthetic_data.csv'\n",
        "\n",
        "def load_data(file_path):\n",
        "    data = pd.read_csv(file_path)\n",
        "    return data\n",
        "\n",
        "\n",
        "def clean_data(data):\n",
        "    if 'Class' in data.columns:\n",
        "        features = data.drop('Class', axis=1)\n",
        "        target = data[['Class']]\n",
        "    else:\n",
        "        features = data\n",
        "        target = None\n",
        "\n",
        "\n",
        "    features.replace([np.inf, -np.inf], np.nan, inplace=True)\n",
        "\n",
        "    imputer = SimpleImputer(strategy='mean')\n",
        "    imputed_features = imputer.fit_transform(features)\n",
        "    cleaned_features = pd.DataFrame(imputed_features, columns=features.columns)\n",
        "\n",
        "    if target is not None:\n",
        "        cleaned_data = pd.concat([cleaned_features, target.reset_index(drop=True)], axis=1)\n",
        "    else:\n",
        "        cleaned_data = cleaned_features\n",
        "\n",
        "    return cleaned_data\n",
        "\n",
        "\n",
        "def combine_datasets(real_data_path, synthetic_data_path):\n",
        "    real_data = load_data(real_data_path)\n",
        "    synthetic_data = load_data(synthetic_data_path)\n",
        "\n",
        "    synthetic_data['Class'] = synthetic_data['Class'].replace({0: -1})\n",
        "\n",
        "    print(\"Unique classes in real data:\", real_data['Class'].unique())\n",
        "    print(\"Unique classes in synthetic data after alignment:\", synthetic_data['Class'].unique())\n",
        "\n",
        "    real_data = clean_data(real_data)\n",
        "    synthetic_data = clean_data(synthetic_data)\n",
        "\n",
        "    combined_data = pd.concat([real_data, synthetic_data], ignore_index=True)\n",
        "    combined_data = shuffle(combined_data, random_state=42)\n",
        "\n",
        "    print(\"Unique classes in combined data after alignment:\", combined_data['Class'].unique())\n",
        "\n",
        "    return combined_data\n",
        "\n",
        "\n",
        "def scale_data(X_train, X_test):\n",
        "    scaler = StandardScaler()\n",
        "    X_train_scaled = scaler.fit_transform(X_train)\n",
        "    X_test_scaled = scaler.transform(X_test)\n",
        "    return X_train_scaled, X_test_scaled\n",
        "\n",
        "def train_classifier(X_train, y_train):\n",
        "    classifier = SVC()\n",
        "    classifier.fit(X_train, y_train)\n",
        "    return classifier\n",
        "\n",
        "def evaluate_classifier(classifier, X_test, y_test):\n",
        "    predictions = classifier.predict(X_test)\n",
        "    accuracy = accuracy_score(y_test, predictions)\n",
        "    report = classification_report(y_test, predictions, output_dict=True)\n",
        "    metrics = {\n",
        "        'accuracy': accuracy,\n",
        "        'precision': report['weighted avg']['precision'],\n",
        "        'recall': report['weighted avg']['recall'],\n",
        "        'f1_score': report['weighted avg']['f1-score']\n",
        "    }\n",
        "    print(\"Accuracy:\", accuracy_score(y_test, predictions))\n",
        "    print(\"Classification Report:\\n\", classification_report(y_test, predictions))\n",
        "    return metrics\n",
        "\n",
        "def main():\n",
        "    augmented_data = combine_datasets(real_data_path, synthetic_data_path)\n",
        "\n",
        "    X = augmented_data.drop('Class', axis=1)\n",
        "    y = augmented_data['Class']\n",
        "\n",
        "    imputer = SimpleImputer(strategy='mean')\n",
        "    X_imputed = imputer.fit_transform(X)\n",
        "    X = pd.DataFrame(X_imputed, columns=X.columns)\n",
        "\n",
        "    X_train, X_test, y_train, y_test = train_test_split(X, y, test_size=0.2, random_state=42)\n",
        "    X_train_scaled, X_test_scaled = scale_data(X_train, X_test)\n",
        "\n",
        "    classifier = train_classifier(X_train_scaled, y_train)\n",
        "\n",
        "    augmented_metrics = evaluate_classifier(classifier, X_test_scaled, y_test)\n",
        "    return augmented_metrics\n",
        "\n",
        "augmented_metrics = main()\n",
        "\n"
      ],
      "metadata": {
        "id": "ki4fI2-rNuI4",
        "colab": {
          "base_uri": "https://localhost:8080/"
        },
        "outputId": "610ecaef-92c4-4844-bf54-02724eab52cd"
      },
      "execution_count": 25,
      "outputs": [
        {
          "output_type": "stream",
          "name": "stdout",
          "text": [
            "Unique classes in real data: [ 1. -1.]\n",
            "Unique classes in synthetic data after alignment: [-1  1]\n",
            "Unique classes in combined data after alignment: [ 1. -1.]\n",
            "Accuracy: 0.9997080505072622\n",
            "Classification Report:\n",
            "               precision    recall  f1-score   support\n",
            "\n",
            "        -1.0       1.00      1.00      1.00     54964\n",
            "         1.0       1.00      1.00      1.00     54644\n",
            "\n",
            "    accuracy                           1.00    109608\n",
            "   macro avg       1.00      1.00      1.00    109608\n",
            "weighted avg       1.00      1.00      1.00    109608\n",
            "\n"
          ]
        }
      ]
    },
    {
      "cell_type": "markdown",
      "source": [
        "##2.3 Synthetic Data Classifier"
      ],
      "metadata": {
        "id": "MGQwXBtRNtg2"
      }
    },
    {
      "cell_type": "code",
      "source": [
        "import pandas as pd\n",
        "from sklearn.model_selection import train_test_split\n",
        "from sklearn.svm import SVC\n",
        "from sklearn.metrics import classification_report, accuracy_score\n",
        "\n",
        "file_path = '/content/gan_models/synthetic_data.csv'\n",
        "\n",
        "def load_data(file_path):\n",
        "    data = pd.read_csv(file_path)\n",
        "    return data\n",
        "\n",
        "def evaluate_classifier(classifier, X_test, y_test):\n",
        "    predictions = classifier.predict(X_test)\n",
        "    accuracy = accuracy_score(y_test, predictions)\n",
        "    report = classification_report(y_test, predictions, output_dict=True)\n",
        "    metrics = {\n",
        "        'accuracy': accuracy,\n",
        "        'precision': report['weighted avg']['precision'],\n",
        "        'recall': report['weighted avg']['recall'],\n",
        "        'f1_score': report['weighted avg']['f1-score']\n",
        "    }\n",
        "    print(\"Accuracy:\", accuracy_score(y_test, predictions))\n",
        "    print(\"Classification Report:\\n\", classification_report(y_test, predictions))\n",
        "    return metrics\n",
        "\n",
        "def main():\n",
        "    synthetic_data = load_data(file_path)\n",
        "\n",
        "    synthetic_data['Class'] = synthetic_data['Class'].replace({0: -1})\n",
        "\n",
        "    X = synthetic_data.drop('Class', axis=1)\n",
        "    y = synthetic_data['Class']\n",
        "\n",
        "    X_train, X_test, y_train, y_test = train_test_split(X, y, test_size=0.2, random_state=42)\n",
        "\n",
        "    classifier = SVC()\n",
        "    classifier.fit(X_train, y_train)\n",
        "\n",
        "    synthetic_metrics = evaluate_classifier(classifier, X_test, y_test)\n",
        "    return synthetic_metrics\n",
        "\n",
        "synthetic_metrics = main()\n",
        "\n"
      ],
      "metadata": {
        "id": "vV566TnTN4dq",
        "colab": {
          "base_uri": "https://localhost:8080/"
        },
        "outputId": "322ad3c8-8952-48d7-8b87-b05db25931de"
      },
      "execution_count": 26,
      "outputs": [
        {
          "output_type": "stream",
          "name": "stdout",
          "text": [
            "Accuracy: 1.0\n",
            "Classification Report:\n",
            "               precision    recall  f1-score   support\n",
            "\n",
            "          -1       1.00      1.00      1.00     14989\n",
            "           1       1.00      1.00      1.00     15011\n",
            "\n",
            "    accuracy                           1.00     30000\n",
            "   macro avg       1.00      1.00      1.00     30000\n",
            "weighted avg       1.00      1.00      1.00     30000\n",
            "\n"
          ]
        }
      ]
    },
    {
      "cell_type": "markdown",
      "source": [
        "##2.4 Comparison of All 3 Classifiers"
      ],
      "metadata": {
        "id": "xgkl9chIv-e1"
      }
    },
    {
      "cell_type": "code",
      "source": [
        "import pandas as pd\n",
        "import matplotlib.pyplot as plt\n",
        "import seaborn as sns\n",
        "\n",
        "\n",
        "metrics_df = pd.DataFrame({\n",
        "    'Original': original_metrics,\n",
        "    'Augmented': augmented_metrics,\n",
        "    'Synthetic': synthetic_metrics\n",
        "})\n",
        "\n",
        "metrics_df = metrics_df.T\n",
        "\n",
        "sns.set_theme(style=\"whitegrid\")\n",
        "ax = metrics_df.plot(kind='bar', figsize=(12, 8), colormap='viridis')\n",
        "\n",
        "plt.title('Performance Metrics Comparison of Classifiers')\n",
        "plt.ylabel('Score')\n",
        "plt.ylim(0.5, 1)\n",
        "plt.xticks(rotation=0)\n",
        "plt.legend(title='Metrics', bbox_to_anchor=(1.05, 1), loc='upper left')\n",
        "\n",
        "for p in ax.patches:\n",
        "    ax.annotate(str(round(p.get_height(), 2)), (p.get_x() + p.get_width() / 2., p.get_height()),\n",
        "                ha='center', va='center', xytext=(0, 10), textcoords='offset points')\n",
        "\n",
        "plt.tight_layout()\n",
        "plt.show()\n"
      ],
      "metadata": {
        "colab": {
          "base_uri": "https://localhost:8080/",
          "height": 720
        },
        "id": "B2H-HJtNexRM",
        "outputId": "bedbeb93-3b9c-4890-f288-da3efd8d5198"
      },
      "execution_count": 28,
      "outputs": [
        {
          "output_type": "display_data",
          "data": {
            "text/plain": [
              "<Figure size 1200x800 with 1 Axes>"
            ],
            "image/png": "[encoded data removed]"
          },
          "metadata": {}
        }
      ]
    }
  ]
}